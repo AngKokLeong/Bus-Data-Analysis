{
 "cells": [
  {
   "cell_type": "markdown",
   "metadata": {},
   "source": [
    "# Bus Data Analysis"
   ]
  },
  {
   "cell_type": "markdown",
   "metadata": {},
   "source": [
    "## Research Question\n",
    "\n",
    "Which Bus Service takes the least amount of time to reach the nearest MRT station between bus service 870 and 992?"
   ]
  },
  {
   "cell_type": "markdown",
   "metadata": {},
   "source": [
    "## Executive Summary\n",
    "\n",
    "asdasdasd"
   ]
  },
  {
   "cell_type": "markdown",
   "metadata": {},
   "source": [
    "## Introduction\n",
    "\n",
    "This project focuses on the analysis of Bus trip duration to determine which bus service between 870 and 992 would be better to travel in and out of Tengah new town using the Hypothesis Testing on both samples.\n",
    "\n"
   ]
  },
  {
   "cell_type": "markdown",
   "metadata": {},
   "source": [
    "## Objective of this test\n",
    "\n",
    "This test aims to find out between the two bus services 870 and 992 which bus service is better to take to reach the nearest MRT station at any point of time from the location of Tengah in Singapore and from the location of the 2 MRT station (Bukit Batok or Jurong East)"
   ]
  },
  {
   "cell_type": "markdown",
   "metadata": {},
   "source": [
    "## Dataset Origin\n",
    "\n",
    "Both dataset are generated from Numpy to ensure both dataset passes the Normality test in Minitab.\n",
    "\n",
    "The source code on how would each dataset being generated is in [this link](https://github.com/AngKokLeong/Bus-Data-Analysis/blob/master/data_generator.py) .\n",
    "\n",
    "Each synthetic data column are generated using Numpy library with this method [numpy.random.normal](https://numpy.org/doc/stable/reference/random/generated/numpy.random.normal.html).\n",
    "\n",
    "Three synthetic data columns are then combined together to form One Pandas DataFrame for the ease of exporting the data into CSV file.\n",
    "\n",
    "\n"
   ]
  },
  {
   "cell_type": "markdown",
   "metadata": {},
   "source": [
    "## Data Collection Method\n",
    "\n",
    "The sample data are collected through observation on my own personal experience from 01 April 2024 to 26 July 2024 when I was boarding these two bus service 870 and 992 to the nearest MRT station.\n",
    "\n",
    "The sample data in this test are restricted from 01 April 2024 to 26 July 2024 on the bus trip data retrieved from SimplyGo mobile application.\n",
    "\n",
    "The two population in this test are the bus trip data of the bus service 992 and 870 that could consist of:\n",
    "-\tCollection of Bus Stop information \n",
    "-\tStarting time of the bus trip\n",
    "-\tEnding Time of the bus trip\n",
    "-\tCheck in time when a bus reaches a bus stop\n",
    "\n",
    "<sub>Definition of Population: https://www.investopedia.com/terms/p/population.asp </sub>"
   ]
  },
  {
   "cell_type": "markdown",
   "metadata": {},
   "source": [
    "## Data Dictionary\n",
    "\n",
    "There are three features in this dataset.\n",
    "\n",
    "Trip Durations\n",
    "- Data Type: Float\n",
    "- The total duration of the Bus Trip from end to end\n",
    "- The value in this data column represents in minutes (mins)\n",
    "    - (Computed from the starting time of boarding the bus to the ending time of alighting the bus)\n",
    "\n",
    "Distances\n",
    "- Data Type: Float\n",
    "- Total Distance of the Bus Trip from end to end \n",
    "- The value in this data column represents in Kilometres (KM)\n",
    "\n",
    "\n",
    "There are 164 data records of bus trips for Bus Service 870 and 70 data records of bus trips for Bus Service 992.\n",
    "\n",
    "There are a total of 117 days.\n",
    "\n",
    "There are a total of 234 bus trips.\n",
    "\n",
    "Each day there are two bus trips where the first bus trip is going towards the MRT Station and the second bus trip is from either MRT station (Jurong East or Bukit Batok)."
   ]
  },
  {
   "cell_type": "markdown",
   "metadata": {},
   "source": [
    "## Test Setup"
   ]
  },
  {
   "cell_type": "code",
   "execution_count": 1,
   "metadata": {},
   "outputs": [],
   "source": [
    "import pandas\n",
    "import matplotlib.pyplot\n",
    "import numpy\n",
    "import scipy\n",
    "import sample_data_generator"
   ]
  },
  {
   "cell_type": "code",
   "execution_count": 2,
   "metadata": {},
   "outputs": [],
   "source": [
    "# Loading data into pandas dataframe\n",
    "\n",
    "bus_870_dataframe: pandas.DataFrame = pandas.read_csv(\"bus_870_synthetic_data.csv\", usecols=[\"trip_durations\",  \"distances\"])\n",
    "bus_992_dataframe: pandas.DataFrame = pandas.read_csv(\"bus_992_synthetic_data.csv\", usecols=[\"trip_durations\",  \"distances\"])\n"
   ]
  },
  {
   "cell_type": "markdown",
   "metadata": {},
   "source": [
    "## Generating Sample Data using Simple Random Sampling Method"
   ]
  },
  {
   "cell_type": "code",
   "execution_count": 7,
   "metadata": {},
   "outputs": [],
   "source": [
    "bus_870_sample_dataframe: pandas.DataFrame = sample_data_generator.simple_random_sampling(bus_870_dataframe, 50)"
   ]
  },
  {
   "cell_type": "code",
   "execution_count": 6,
   "metadata": {},
   "outputs": [],
   "source": [
    "bus_992_sample_dataframe: pandas.DataFrame = sample_data_generator.simple_random_sampling(bus_992_dataframe, 50)"
   ]
  },
  {
   "cell_type": "markdown",
   "metadata": {},
   "source": [
    "Sample data generated by Simple Random Sampling method where 50 sample data are randomly selected from the main dataset collected for this test."
   ]
  },
  {
   "cell_type": "markdown",
   "metadata": {},
   "source": [
    "## Exploratory Data Analysis for the sample dataset of Bus 870"
   ]
  },
  {
   "cell_type": "markdown",
   "metadata": {},
   "source": [
    "#### Five Number Summary for trip_durations in the dataset of Bus 870"
   ]
  },
  {
   "cell_type": "code",
   "execution_count": 18,
   "metadata": {},
   "outputs": [
    {
     "data": {
      "text/plain": [
       "count    50.000000\n",
       "mean     49.917961\n",
       "std       1.508491\n",
       "min      46.797819\n",
       "25%      48.853642\n",
       "50%      49.708695\n",
       "75%      50.664293\n",
       "max      53.988955\n",
       "Name: trip_durations, dtype: float64"
      ]
     },
     "execution_count": 18,
     "metadata": {},
     "output_type": "execute_result"
    }
   ],
   "source": [
    "five_number_summary_for_bus_870_trip_durations_sample: pandas.Series = bus_870_sample_dataframe[\"trip_durations\"].describe()\n",
    "bus_870_sample_dataframe[\"trip_durations\"].describe()"
   ]
  },
  {
   "cell_type": "markdown",
   "metadata": {},
   "source": [
    "#### Five Number Summary for distances in the dataset of Bus 870"
   ]
  },
  {
   "cell_type": "code",
   "execution_count": 19,
   "metadata": {},
   "outputs": [
    {
     "data": {
      "text/plain": [
       "count    50.000000\n",
       "mean      6.196372\n",
       "std       0.010651\n",
       "min       6.175228\n",
       "25%       6.188040\n",
       "50%       6.198109\n",
       "75%       6.203619\n",
       "max       6.216640\n",
       "Name: distances, dtype: float64"
      ]
     },
     "execution_count": 19,
     "metadata": {},
     "output_type": "execute_result"
    }
   ],
   "source": [
    "five_number_summary_for_bus_870_distances_sample: pandas.Series = bus_870_sample_dataframe[\"distances\"].describe()\n",
    "bus_870_sample_dataframe[\"distances\"].describe()"
   ]
  },
  {
   "cell_type": "markdown",
   "metadata": {},
   "source": [
    "#### Boxplot for trip_durations in the dataset of Bus 870"
   ]
  },
  {
   "cell_type": "code",
   "execution_count": 11,
   "metadata": {},
   "outputs": [
    {
     "data": {
      "text/plain": [
       "<Axes: >"
      ]
     },
     "execution_count": 11,
     "metadata": {},
     "output_type": "execute_result"
    },
    {
     "data": {
      "image/png": "[encoded data removed]",
      "text/plain": [
       "<Figure size 640x480 with 1 Axes>"
      ]
     },
     "metadata": {},
     "output_type": "display_data"
    }
   ],
   "source": [
    "bus_870_sample_dataframe[\"trip_durations\"].plot(kind=\"box\")"
   ]
  },
  {
   "cell_type": "markdown",
   "metadata": {},
   "source": [
    "#### Boxplot for distances in the dataset of Bus 870"
   ]
  },
  {
   "cell_type": "code",
   "execution_count": 10,
   "metadata": {},
   "outputs": [
    {
     "data": {
      "text/plain": [
       "<Axes: >"
      ]
     },
     "execution_count": 10,
     "metadata": {},
     "output_type": "execute_result"
    },
    {
     "data": {
      "image/png": "[encoded data removed]",
      "text/plain": [
       "<Figure size 640x480 with 1 Axes>"
      ]
     },
     "metadata": {},
     "output_type": "display_data"
    }
   ],
   "source": [
    "bus_870_sample_dataframe[\"distances\"].plot(kind=\"box\")"
   ]
  },
  {
   "cell_type": "markdown",
   "metadata": {},
   "source": [
    "## Exploratory Data Analysis for the dataset of Bus 992"
   ]
  },
  {
   "cell_type": "markdown",
   "metadata": {},
   "source": [
    "#### Five Number Summary for distances in the dataset of Bus 992"
   ]
  },
  {
   "cell_type": "code",
   "execution_count": 16,
   "metadata": {},
   "outputs": [
    {
     "data": {
      "text/plain": [
       "count    50.000000\n",
       "mean      5.998299\n",
       "std       0.010244\n",
       "min       5.976641\n",
       "25%       5.991092\n",
       "50%       5.998387\n",
       "75%       6.005463\n",
       "max       6.017016\n",
       "Name: distances, dtype: float64"
      ]
     },
     "execution_count": 16,
     "metadata": {},
     "output_type": "execute_result"
    }
   ],
   "source": [
    "five_number_summary_for_bus_992_distances_sample: pandas.Series = bus_992_sample_dataframe[\"distances\"].describe()\n",
    "bus_992_sample_dataframe[\"distances\"].describe()"
   ]
  },
  {
   "cell_type": "markdown",
   "metadata": {},
   "source": [
    "#### Five Number Summary for trip_durations in the dataset of Bus 992"
   ]
  },
  {
   "cell_type": "code",
   "execution_count": 17,
   "metadata": {},
   "outputs": [
    {
     "data": {
      "text/plain": [
       "count    50.000000\n",
       "mean     40.234927\n",
       "std       1.448704\n",
       "min      36.620774\n",
       "25%      39.438387\n",
       "50%      40.129481\n",
       "75%      41.175468\n",
       "max      43.087315\n",
       "Name: trip_durations, dtype: float64"
      ]
     },
     "execution_count": 17,
     "metadata": {},
     "output_type": "execute_result"
    }
   ],
   "source": [
    "five_number_summary_for_bus_992_trip_durations_sample: pandas.Series = bus_992_sample_dataframe[\"trip_durations\"].describe()\n",
    "bus_992_sample_dataframe[\"trip_durations\"].describe()"
   ]
  },
  {
   "cell_type": "markdown",
   "metadata": {},
   "source": [
    "#### Boxplot on trip_durations in the dataset of Bus 992"
   ]
  },
  {
   "cell_type": "code",
   "execution_count": 14,
   "metadata": {},
   "outputs": [
    {
     "data": {
      "text/plain": [
       "<Axes: >"
      ]
     },
     "execution_count": 14,
     "metadata": {},
     "output_type": "execute_result"
    },
    {
     "data": {
      "image/png": "[encoded data removed]",
      "text/plain": [
       "<Figure size 640x480 with 1 Axes>"
      ]
     },
     "metadata": {},
     "output_type": "display_data"
    }
   ],
   "source": [
    "bus_992_sample_dataframe[\"trip_durations\"].plot(kind=\"box\")"
   ]
  },
  {
   "cell_type": "markdown",
   "metadata": {},
   "source": [
    "#### Boxplot for distances in the dataset of Bus 992"
   ]
  },
  {
   "cell_type": "code",
   "execution_count": 15,
   "metadata": {},
   "outputs": [
    {
     "data": {
      "text/plain": [
       "<Axes: >"
      ]
     },
     "execution_count": 15,
     "metadata": {},
     "output_type": "execute_result"
    },
    {
     "data": {
      "image/png": "[encoded data removed]",
      "text/plain": [
       "<Figure size 640x480 with 1 Axes>"
      ]
     },
     "metadata": {},
     "output_type": "display_data"
    }
   ],
   "source": [
    "bus_992_sample_dataframe[\"distances\"].plot(kind=\"box\")"
   ]
  },
  {
   "cell_type": "markdown",
   "metadata": {},
   "source": [
    "## Setting the Level of Significance for this test\n",
    "\n",
    "Since the accuracy of the bus waiting time and the entire bus trip from end to end needs to be precise, the current <b>Significance Level</b> will be set at <b><u>0.01</u></b>."
   ]
  },
  {
   "cell_type": "markdown",
   "metadata": {},
   "source": [
    "## Setting up the Confidence Interval"
   ]
  },
  {
   "cell_type": "markdown",
   "metadata": {},
   "source": [
    "The setup of the Confidence Interval is using the current configuration where the population standard deviation is unknown therefore, the following formula is used to calculate the lower bound and upper bound of the confidence interval.\n",
    "\n",
    "point estimate $\\pm$ margin of error\n",
    "\n",
    "$\\overline x  \\pm  z^*  (\\frac{\\sigma}{\\sqrt n}) $\n",
    "\n",
    "\n",
    "Reference from https://asciimath.org/ https://docs.mathjax.org/en/latest/index.html https://katex.org/ for mathematical expression in markdown\n"
   ]
  },
  {
   "cell_type": "markdown",
   "metadata": {},
   "source": [
    "### Confidence Interval for Bus 870 (Distances)"
   ]
  },
  {
   "cell_type": "code",
   "execution_count": 21,
   "metadata": {},
   "outputs": [
    {
     "data": {
      "text/plain": [
       "{'Sample_Mean': 6.196371521973807,\n",
       " 'Lower Bound Confidence Interval': 6.199993926976853,\n",
       " 'Upper Bound Confidence Interval': 6.192749116970762}"
      ]
     },
     "execution_count": 21,
     "metadata": {},
     "output_type": "execute_result"
    }
   ],
   "source": [
    "sample_data_generator.generate_confidence_interval_for_t_test_with_unknown_sigma(0.01,\n",
    "                                                              five_number_summary_for_bus_870_distances_sample[\"mean\"],\n",
    "                                                              five_number_summary_for_bus_870_distances_sample[\"std\"],\n",
    "                                                              data_source=bus_870_sample_dataframe[\"distances\"]\n",
    "                                                            )"
   ]
  },
  {
   "cell_type": "markdown",
   "metadata": {},
   "source": [
    "### Confidence Interval for Bus 870 (trip_durations)"
   ]
  },
  {
   "cell_type": "code",
   "execution_count": 22,
   "metadata": {},
   "outputs": [
    {
     "data": {
      "text/plain": [
       "{'Sample_Mean': 49.917960979076945,\n",
       " 'Lower Bound Confidence Interval': 50.43100351233759,\n",
       " 'Upper Bound Confidence Interval': 49.4049184458163}"
      ]
     },
     "execution_count": 22,
     "metadata": {},
     "output_type": "execute_result"
    }
   ],
   "source": [
    "sample_data_generator.generate_confidence_interval_for_t_test_with_unknown_sigma(0.01,\n",
    "                                                              five_number_summary_for_bus_870_trip_durations_sample[\"mean\"],\n",
    "                                                              five_number_summary_for_bus_870_trip_durations_sample[\"std\"],\n",
    "                                                              data_source=bus_870_sample_dataframe[\"trip_durations\"]\n",
    "                                                            )"
   ]
  },
  {
   "cell_type": "markdown",
   "metadata": {},
   "source": [
    "### Confidence Interval for Bus 992 (Distances)"
   ]
  },
  {
   "cell_type": "code",
   "execution_count": 23,
   "metadata": {},
   "outputs": [
    {
     "data": {
      "text/plain": [
       "{'Sample_Mean': 5.998298550501976,\n",
       " 'Lower Bound Confidence Interval': 5.99492817944569,\n",
       " 'Upper Bound Confidence Interval': 6.001668921558261}"
      ]
     },
     "execution_count": 23,
     "metadata": {},
     "output_type": "execute_result"
    }
   ],
   "source": [
    "sample_data_generator.generate_confidence_interval_for_z_test_with_known_sigma(0.01,\n",
    "                                                              five_number_summary_for_bus_992_distances_sample[\"mean\"],\n",
    "                                                              five_number_summary_for_bus_992_distances_sample[\"std\"],\n",
    "                                                              data_source=bus_992_sample_dataframe[\"distances\"]\n",
    "                                                            )"
   ]
  },
  {
   "cell_type": "markdown",
   "metadata": {},
   "source": [
    "### Confidence Interval for Bus 992 (trip_durations)"
   ]
  },
  {
   "cell_type": "code",
   "execution_count": 24,
   "metadata": {},
   "outputs": [
    {
     "data": {
      "text/plain": [
       "{'Sample_Mean': 40.23492660315212,\n",
       " 'Lower Bound Confidence Interval': 39.75830980394868,\n",
       " 'Upper Bound Confidence Interval': 40.71154340235556}"
      ]
     },
     "execution_count": 24,
     "metadata": {},
     "output_type": "execute_result"
    }
   ],
   "source": [
    "sample_data_generator.generate_confidence_interval_for_z_test_with_known_sigma(0.01,\n",
    "                                                              five_number_summary_for_bus_992_trip_durations_sample[\"mean\"],\n",
    "                                                              five_number_summary_for_bus_992_trip_durations_sample[\"std\"],\n",
    "                                                              data_source=bus_992_sample_dataframe[\"trip_durations\"]\n",
    "                                                            )\n"
   ]
  },
  {
   "cell_type": "markdown",
   "metadata": {},
   "source": [
    "### Test Results for Confidence Interval for all sample dataset and its data column"
   ]
  },
  {
   "cell_type": "markdown",
   "metadata": {},
   "source": [
    "Trip Durations Bus 992\n",
    "- Sample Mean: 40.101045565910354\n",
    "- Upper Bound: 40.50825661442525\n",
    "- Lower Bound: 39.69383451739546\n",
    "\n",
    "Distances Bus 992\n",
    "- Sample Mean: 5.998875895144294\n",
    "- Upper Bound: 6.001880772395153\n",
    "- Lower Bound: 5.9958710178934345\n",
    "\n",
    "Bus 870 trip_duration\n",
    "- Sample Mean: 49.774774773269144\n",
    "- Upper Bound: 50.09396492044416\n",
    "- Lower Bound: 49.45558462609413\n",
    "\n",
    "Bus 870 Distances\n",
    "- Sample Mean: 6.199350836959833\n",
    "- Upper Bound: 6.201267764450136\n",
    "- Lower Bound: 6.19743390946953\n"
   ]
  },
  {
   "cell_type": "markdown",
   "metadata": {},
   "source": [
    "The sample mean for the sample data of Bus 992 trip_durations falls under the Confidence Interval [39.69383451739546, 40.50825661442525] with the significance level of 0.01 and the sample mean of 40.101045565910354.\n",
    "\n",
    "The sample mean for the sample data of Bus 992 distances falls under the Confidence Interval [5.9958710178934345, 6.001880772395153] with the significance level of 0.01 and the sample mean of 5.998875895144294.\n",
    "\n",
    "The sample mean for the sample data of Bus 870 trip_durations falls under the Confidence Interval [49.45558462609413, 50.09396492044416] with the significance level of 0.01 and the sample mean of 49.774774773269144.\n",
    "\n",
    "The sample mean for the sample data of Bus 870 distances falls under the Confidence Interval [6.19743390946953, 6.201267764450136] with the significance level of 0.01 and the sample mean of 6.199350836959833."
   ]
  },
  {
   "cell_type": "markdown",
   "metadata": {},
   "source": [
    "## Conducting Normality Test on Sample Dataset"
   ]
  },
  {
   "cell_type": "code",
   "execution_count": 25,
   "metadata": {},
   "outputs": [
    {
     "data": {
      "text/plain": [
       "NormaltestResult(statistic=1.7109887223051812, pvalue=0.42507299955329736)"
      ]
     },
     "execution_count": 25,
     "metadata": {},
     "output_type": "execute_result"
    }
   ],
   "source": [
    "scipy.stats.normaltest(bus_870_sample_dataframe[\"distances\"])"
   ]
  },
  {
   "cell_type": "code",
   "execution_count": 26,
   "metadata": {},
   "outputs": [
    {
     "data": {
      "text/plain": [
       "NormaltestResult(statistic=0.9417214975971964, pvalue=0.6244645297932351)"
      ]
     },
     "execution_count": 26,
     "metadata": {},
     "output_type": "execute_result"
    }
   ],
   "source": [
    "scipy.stats.normaltest(bus_870_sample_dataframe[\"trip_durations\"])"
   ]
  },
  {
   "cell_type": "code",
   "execution_count": 27,
   "metadata": {},
   "outputs": [
    {
     "data": {
      "text/plain": [
       "NormaltestResult(statistic=3.2905258526206684, pvalue=0.19296182138369639)"
      ]
     },
     "execution_count": 27,
     "metadata": {},
     "output_type": "execute_result"
    }
   ],
   "source": [
    "scipy.stats.normaltest(bus_992_sample_dataframe[\"distances\"])"
   ]
  },
  {
   "cell_type": "code",
   "execution_count": 28,
   "metadata": {},
   "outputs": [
    {
     "data": {
      "text/plain": [
       "NormaltestResult(statistic=0.06304926325646694, pvalue=0.968967088922688)"
      ]
     },
     "execution_count": 28,
     "metadata": {},
     "output_type": "execute_result"
    }
   ],
   "source": [
    "scipy.stats.normaltest(bus_992_sample_dataframe[\"trip_durations\"])"
   ]
  },
  {
   "cell_type": "markdown",
   "metadata": {},
   "source": [
    "The p-value for the sample data of Bus 870 is 0.86.\n",
    "\n",
    "The p-value for the sample data of Bus 992 is 0.89.\n",
    "\n",
    "Since the alpha = 0.01 and the p-value for both sample data is above 0.01.\n",
    "\n",
    "Therefore, the alternative hypothesis where the sample data extracted from the population does not follow the normal distribution is rejected.\n",
    "\n",
    "The sample data for Bus 870 and Bus 992 are retrieved from the population dataset where it follows the normal distribution so the following hypothesis test can be used:\n",
    "\n",
    "- Paired t-test\n",
    "- Two-sample independent t-test\n",
    "- ANOVA F-test\n",
    "\n"
   ]
  },
  {
   "cell_type": "markdown",
   "metadata": {},
   "source": [
    "## Setup of Two Sample Independent t-test"
   ]
  },
  {
   "cell_type": "markdown",
   "metadata": {},
   "source": [
    "Two Sample T-Test is selected due to two sample dataset which contains data of bus trip for 870 and 992 are two independent bus service.\n",
    "\n",
    "In Normality test conducted earlier, the sample dataset for Bus service 870 and 992 are tested and determined that both sample dataset are extracted from population dataset follows normal distribution.\n",
    "\n"
   ]
  },
  {
   "cell_type": "markdown",
   "metadata": {},
   "source": [
    "### Conduct F-Test to verify for Equal Variance"
   ]
  },
  {
   "cell_type": "code",
   "execution_count": null,
   "metadata": {},
   "outputs": [],
   "source": [
    "\n",
    "\n",
    "\n",
    "# Reference from Scipy documentation for Two Sample Independent t-test\n",
    "# https://docs.scipy.org/doc/scipy/reference/generated/scipy.stats.ttest_ind.html\n",
    "\n",
    "\n"
   ]
  },
  {
   "cell_type": "markdown",
   "metadata": {},
   "source": [
    "## Conduct Two Sample T-Test with Equal Variances"
   ]
  },
  {
   "cell_type": "markdown",
   "metadata": {},
   "source": [
    "Since the test results from the F-Test indicates that the"
   ]
  },
  {
   "cell_type": "code",
   "execution_count": null,
   "metadata": {},
   "outputs": [],
   "source": []
  },
  {
   "cell_type": "markdown",
   "metadata": {},
   "source": []
  },
  {
   "cell_type": "code",
   "execution_count": null,
   "metadata": {},
   "outputs": [],
   "source": []
  },
  {
   "cell_type": "markdown",
   "metadata": {},
   "source": [
    "Possible Errors (Type I/II) could be committed"
   ]
  },
  {
   "cell_type": "code",
   "execution_count": null,
   "metadata": {},
   "outputs": [],
   "source": []
  },
  {
   "cell_type": "markdown",
   "metadata": {},
   "source": [
    "## Summary"
   ]
  }
 ],
 "metadata": {
  "kernelspec": {
   "display_name": "base",
   "language": "python",
   "name": "python3"
  },
  "language_info": {
   "codemirror_mode": {
    "name": "ipython",
    "version": 3
   },
   "file_extension": ".py",
   "mimetype": "text/x-python",
   "name": "python",
   "nbconvert_exporter": "python",
   "pygments_lexer": "ipython3",
   "version": "3.12.4"
  }
 },
 "nbformat": 4,
 "nbformat_minor": 2
}
