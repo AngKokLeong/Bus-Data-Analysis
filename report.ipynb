{
 "cells": [
  {
   "cell_type": "markdown",
   "metadata": {},
   "source": [
    "# Bus Data Analysis"
   ]
  },
  {
   "cell_type": "markdown",
   "metadata": {},
   "source": [
    "### Executive Summary\n",
    "\n",
    "asdasdasd"
   ]
  },
  {
   "cell_type": "markdown",
   "metadata": {},
   "source": [
    "### Introduction\n",
    "\n",
    "This project focuses on the analysis of Bus trip duration to determine which bus service between 870 and 992 would be better to travel out of Tengah new town using the Hypothesis Testing on both samples.\n",
    "\n"
   ]
  },
  {
   "cell_type": "markdown",
   "metadata": {},
   "source": [
    "### Dataset Origin\n",
    "\n",
    "Both dataset are generated from Numpy to ensure both dataset passes the Normality test in Minitab.\n",
    "\n",
    "The source code on how would each dataset being generated is in [this link](https://github.com/AngKokLeong/Bus-Data-Analysis/blob/master/data_generator.py) .\n",
    "\n",
    "Each synthetic data column are generated using Numpy library with this method [numpy.random.normal](https://numpy.org/doc/stable/reference/random/generated/numpy.random.normal.html).\n",
    "\n",
    "Three synthetic data columns are then combined together to form One Pandas DataFrame for the ease of exporting the data into CSV file.\n",
    "\n",
    "\n"
   ]
  },
  {
   "cell_type": "markdown",
   "metadata": {},
   "source": [
    "### Data Dictionary\n",
    "\n",
    "There are three features in this dataset.\n",
    "\n",
    "Trip Durations\n",
    "- Data Type: Float\n",
    "- The total duration of the Bus Trip from end to end\n",
    "\n",
    "Number of Passengers\n",
    "- Data Type: Integer\n",
    "- Total Number of Passengers in the Bus Trip\n",
    "\n",
    "Distances\n",
    "- Data Type: Float\n",
    "- Total Distance of the Bus Trip from end to end"
   ]
  },
  {
   "cell_type": "markdown",
   "metadata": {},
   "source": [
    "### Types of Bus in the bus service 870 or 992"
   ]
  },
  {
   "cell_type": "markdown",
   "metadata": {},
   "source": []
  },
  {
   "cell_type": "markdown",
   "metadata": {},
   "source": [
    "### Test Setup"
   ]
  },
  {
   "cell_type": "code",
   "execution_count": 2,
   "metadata": {},
   "outputs": [],
   "source": [
    "import pandas\n",
    "import matplotlib"
   ]
  },
  {
   "cell_type": "code",
   "execution_count": 7,
   "metadata": {},
   "outputs": [],
   "source": [
    "# Loading data into pandas dataframe\n",
    "\n",
    "bus_870_dataframe: pandas.DataFrame = pandas.read_csv(\"bus_870_synthetic_data.csv\", usecols=[\"trip_durations\", \"num_passengers\", \"distances\"])\n",
    "bus_992_dataframe: pandas.DataFrame = pandas.read_csv(\"bus_992_synthetic_data.csv\", usecols=[\"trip_durations\", \"num_passengers\", \"distances\"])\n"
   ]
  },
  {
   "cell_type": "markdown",
   "metadata": {},
   "source": [
    "### Exploratory Data Analysis for the dataset of Bus 870"
   ]
  },
  {
   "cell_type": "markdown",
   "metadata": {},
   "source": [
    "#### Five Number Summary for trip_durations in the dataset of Bus 870"
   ]
  },
  {
   "cell_type": "code",
   "execution_count": 9,
   "metadata": {},
   "outputs": [
    {
     "data": {
      "text/plain": [
       "count    1000.000000\n",
       "mean       49.803567\n",
       "std         9.700306\n",
       "min        21.621896\n",
       "25%        43.530195\n",
       "50%        50.035017\n",
       "75%        56.491883\n",
       "max        78.905421\n",
       "Name: trip_durations, dtype: float64"
      ]
     },
     "execution_count": 9,
     "metadata": {},
     "output_type": "execute_result"
    }
   ],
   "source": [
    "bus_870_dataframe[\"trip_durations\"].describe()"
   ]
  },
  {
   "cell_type": "markdown",
   "metadata": {},
   "source": [
    "#### Five Number Summary for num_passengers in the dataset of Bus 870"
   ]
  },
  {
   "cell_type": "code",
   "execution_count": 10,
   "metadata": {},
   "outputs": [
    {
     "data": {
      "text/plain": [
       "count    1000.000000\n",
       "mean       49.987717\n",
       "std         5.090011\n",
       "min        32.987347\n",
       "25%        46.310064\n",
       "50%        50.007775\n",
       "75%        53.354970\n",
       "max        66.026128\n",
       "Name: num_passengers, dtype: float64"
      ]
     },
     "execution_count": 10,
     "metadata": {},
     "output_type": "execute_result"
    }
   ],
   "source": [
    "bus_870_dataframe[\"num_passengers\"].describe()"
   ]
  },
  {
   "cell_type": "markdown",
   "metadata": {},
   "source": [
    "#### Five Number Summary for distances in the dataset of Bus 870"
   ]
  },
  {
   "cell_type": "code",
   "execution_count": 11,
   "metadata": {},
   "outputs": [
    {
     "data": {
      "text/plain": [
       "count    1000.000000\n",
       "mean        6.505443\n",
       "std         2.716509\n",
       "min         0.014000\n",
       "25%         4.704443\n",
       "50%         6.544661\n",
       "75%         8.360032\n",
       "max        14.901317\n",
       "Name: distances, dtype: float64"
      ]
     },
     "execution_count": 11,
     "metadata": {},
     "output_type": "execute_result"
    }
   ],
   "source": [
    "bus_870_dataframe[\"distances\"].describe()"
   ]
  },
  {
   "cell_type": "markdown",
   "metadata": {},
   "source": [
    "#### "
   ]
  }
 ],
 "metadata": {
  "kernelspec": {
   "display_name": "base",
   "language": "python",
   "name": "python3"
  },
  "language_info": {
   "codemirror_mode": {
    "name": "ipython",
    "version": 3
   },
   "file_extension": ".py",
   "mimetype": "text/x-python",
   "name": "python",
   "nbconvert_exporter": "python",
   "pygments_lexer": "ipython3",
   "version": "3.12.4"
  }
 },
 "nbformat": 4,
 "nbformat_minor": 2
}
